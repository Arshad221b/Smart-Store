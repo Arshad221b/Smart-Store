{
  "nbformat": 4,
  "nbformat_minor": 0,
  "metadata": {
    "colab": {
      "name": "faceexpression.ipynb",
      "version": "0.3.2",
      "provenance": [],
      "include_colab_link": true
    },
    "kernelspec": {
      "name": "python3",
      "display_name": "Python 3"
    },
    "accelerator": "GPU"
  },
  "cells": [
    {
      "cell_type": "markdown",
      "metadata": {
        "id": "view-in-github",
        "colab_type": "text"
      },
      "source": [
        "<a href=\"https://colab.research.google.com/github/Arshad221b/Smart-Store/blob/master/faceexpression.ipynb\" target=\"_parent\"><img src=\"https://colab.research.google.com/assets/colab-badge.svg\" alt=\"Open In Colab\"/></a>"
      ]
    },
    {
      "metadata": {
        "id": "AB190u4i3ypX",
        "colab_type": "code",
        "colab": {
          "base_uri": "https://localhost:8080/",
          "height": 74
        },
        "outputId": "3ca7f416-40c8-4dec-8f90-da4f8986855e"
      },
      "cell_type": "code",
      "source": [
        "import tensorflow as tf\n",
        "\n",
        "import keras\n",
        "from keras.models import Sequential\n",
        "from keras.layers import Conv2D, MaxPooling2D, AveragePooling2D\n",
        "from keras.layers import Dense, Activation, Dropout, Flatten\n",
        "\n",
        "from keras.preprocessing import image\n",
        "from keras.preprocessing.image import ImageDataGenerator\n",
        "\n",
        "import numpy as np\n",
        "import matplotlib.pyplot as plt"
      ],
      "execution_count": 1,
      "outputs": [
        {
          "output_type": "stream",
          "text": [
            "Using TensorFlow backend.\n"
          ],
          "name": "stderr"
        }
      ]
    },
    {
      "metadata": {
        "id": "yAGCo8554Ins",
        "colab_type": "code",
        "outputId": "f97ef8c0-5ee0-4bc3-a6af-4d65dd71f190",
        "colab": {
          "base_uri": "https://localhost:8080/",
          "height": 273
        }
      },
      "cell_type": "code",
      "source": [
        "!pip install PyDrive"
      ],
      "execution_count": 2,
      "outputs": [
        {
          "output_type": "stream",
          "text": [
            "Requirement already satisfied: PyDrive in /usr/local/lib/python3.6/dist-packages (1.3.1)\n",
            "Requirement already satisfied: oauth2client>=4.0.0 in /usr/local/lib/python3.6/dist-packages (from PyDrive) (4.1.3)\n",
            "Requirement already satisfied: google-api-python-client>=1.2 in /usr/local/lib/python3.6/dist-packages (from PyDrive) (1.6.7)\n",
            "Requirement already satisfied: PyYAML>=3.0 in /usr/local/lib/python3.6/dist-packages (from PyDrive) (3.13)\n",
            "Requirement already satisfied: rsa>=3.1.4 in /usr/local/lib/python3.6/dist-packages (from oauth2client>=4.0.0->PyDrive) (4.0)\n",
            "Requirement already satisfied: pyasn1-modules>=0.0.5 in /usr/local/lib/python3.6/dist-packages (from oauth2client>=4.0.0->PyDrive) (0.2.4)\n",
            "Requirement already satisfied: pyasn1>=0.1.7 in /usr/local/lib/python3.6/dist-packages (from oauth2client>=4.0.0->PyDrive) (0.4.5)\n",
            "Requirement already satisfied: httplib2>=0.9.1 in /usr/local/lib/python3.6/dist-packages (from oauth2client>=4.0.0->PyDrive) (0.11.3)\n",
            "Requirement already satisfied: six>=1.6.1 in /usr/local/lib/python3.6/dist-packages (from oauth2client>=4.0.0->PyDrive) (1.11.0)\n",
            "Requirement already satisfied: uritemplate<4dev,>=3.0.0 in /usr/local/lib/python3.6/dist-packages (from google-api-python-client>=1.2->PyDrive) (3.0.0)\n"
          ],
          "name": "stdout"
        }
      ]
    },
    {
      "metadata": {
        "id": "dZTy-gd69c5C",
        "colab_type": "code",
        "colab": {}
      },
      "cell_type": "code",
      "source": [
        "import os\n",
        "from pydrive.auth import GoogleAuth\n",
        "from pydrive.drive import GoogleDrive\n",
        "from google.colab import auth\n",
        "from oauth2client.client import GoogleCredentials"
      ],
      "execution_count": 0,
      "outputs": []
    },
    {
      "metadata": {
        "id": "1WasT2lx9g_a",
        "colab_type": "code",
        "colab": {}
      },
      "cell_type": "code",
      "source": [
        "auth.authenticate_user()\n",
        "gauth = GoogleAuth()\n",
        "gauth.credentials = GoogleCredentials.get_application_default()\n",
        "drive = GoogleDrive(gauth)"
      ],
      "execution_count": 0,
      "outputs": []
    },
    {
      "metadata": {
        "id": "M4g77M98_YEM",
        "colab_type": "code",
        "colab": {}
      },
      "cell_type": "code",
      "source": [
        "import pandas as pd"
      ],
      "execution_count": 0,
      "outputs": []
    },
    {
      "metadata": {
        "id": "GZn2Z7xz-ugO",
        "colab_type": "code",
        "colab": {}
      },
      "cell_type": "code",
      "source": [
        "download = drive.CreateFile({'id': '1PMCsXW9ks0GblAddXTzHLPk7X2kDQwm0'})\n",
        "download.GetContentFile('fer2013.csv')\n",
        "data = pd.read_csv('fer2013.csv')"
      ],
      "execution_count": 0,
      "outputs": []
    },
    {
      "metadata": {
        "id": "MPuw0fb5JvRq",
        "colab_type": "code",
        "colab": {}
      },
      "cell_type": "code",
      "source": [
        "data2 = data['Usage'] == 'Training'"
      ],
      "execution_count": 0,
      "outputs": []
    },
    {
      "metadata": {
        "id": "1IPv_heA_2Q1",
        "colab_type": "code",
        "colab": {}
      },
      "cell_type": "code",
      "source": [
        "train = data[data2]"
      ],
      "execution_count": 0,
      "outputs": []
    },
    {
      "metadata": {
        "id": "ci-96UXRJcRN",
        "colab_type": "code",
        "colab": {}
      },
      "cell_type": "code",
      "source": [
        "data3 = data['Usage'] == 'PrivateTest'"
      ],
      "execution_count": 0,
      "outputs": []
    },
    {
      "metadata": {
        "id": "ze9Gng9GFA6R",
        "colab_type": "code",
        "colab": {}
      },
      "cell_type": "code",
      "source": [
        "test  = data[data3]"
      ],
      "execution_count": 0,
      "outputs": []
    },
    {
      "metadata": {
        "id": "Mxu1pFIM59pI",
        "colab_type": "code",
        "colab": {}
      },
      "cell_type": "code",
      "source": [
        "y_train = train['emotion'].values\n",
        "y_test  = test['emotion'].values"
      ],
      "execution_count": 0,
      "outputs": []
    },
    {
      "metadata": {
        "id": "naI8SfqMLgV1",
        "colab_type": "code",
        "colab": {}
      },
      "cell_type": "code",
      "source": [
        "from keras.utils import to_categorical\n",
        "y_train = to_categorical(y_train)\n"
      ],
      "execution_count": 0,
      "outputs": []
    },
    {
      "metadata": {
        "id": "vyXX7etwM4Ca",
        "colab_type": "code",
        "colab": {}
      },
      "cell_type": "code",
      "source": [
        "y_test = to_categorical(y_test)"
      ],
      "execution_count": 0,
      "outputs": []
    },
    {
      "metadata": {
        "id": "yfJI0wM1DnXo",
        "colab_type": "code",
        "colab": {}
      },
      "cell_type": "code",
      "source": [
        "X_train = train['pixels'].str.split(' ', expand=True).rename(columns = lambda x: \"pixel\"+str(x+1))"
      ],
      "execution_count": 0,
      "outputs": []
    },
    {
      "metadata": {
        "id": "ye10cPKMJtzo",
        "colab_type": "code",
        "colab": {}
      },
      "cell_type": "code",
      "source": [
        "X_test = test['pixels'].str.split(' ', expand=True).rename(columns = lambda x: \"pixel\"+str(x+1))"
      ],
      "execution_count": 0,
      "outputs": []
    },
    {
      "metadata": {
        "id": "GaQcYebqHTvq",
        "colab_type": "code",
        "colab": {
          "base_uri": "https://localhost:8080/",
          "height": 74
        },
        "outputId": "684768d2-38e4-4139-89e9-7286a1b43abe"
      },
      "cell_type": "code",
      "source": [
        "print(X_train.shape)"
      ],
      "execution_count": 33,
      "outputs": [
        {
          "output_type": "stream",
          "text": [
            "(28709, 2304)\n"
          ],
          "name": "stdout"
        }
      ]
    },
    {
      "metadata": {
        "id": "Kbo85qSdKp-S",
        "colab_type": "code",
        "colab": {
          "base_uri": "https://localhost:8080/",
          "height": 74
        },
        "outputId": "b3d43d64-dea8-4054-bb9c-265e5a542631"
      },
      "cell_type": "code",
      "source": [
        "print(X_test.shape)"
      ],
      "execution_count": 36,
      "outputs": [
        {
          "output_type": "stream",
          "text": [
            "(3589, 2304)\n"
          ],
          "name": "stdout"
        }
      ]
    },
    {
      "metadata": {
        "id": "3lYEOBIhKiyd",
        "colab_type": "code",
        "colab": {}
      },
      "cell_type": "code",
      "source": [
        "X_train = X_train.values.reshape((28709, 48, 48, 1))\n",
        "X_test = X_test.values.reshape((3589 , 48 , 48 , 1))"
      ],
      "execution_count": 0,
      "outputs": []
    },
    {
      "metadata": {
        "id": "5gaSt30jRY-W",
        "colab_type": "code",
        "colab": {}
      },
      "cell_type": "code",
      "source": [
        "model = Sequential()\n",
        " \n",
        "#1st convolution layer\n",
        "model.add(Conv2D(64, (5, 5), activation='relu', input_shape=(48,48,1)))\n",
        "model.add(MaxPooling2D(pool_size=(5,5), strides=(2, 2)))\n",
        " \n",
        "#2nd convolution layer\n",
        "model.add(Conv2D(64, (3, 3), activation='relu'))\n",
        "model.add(Conv2D(64, (3, 3), activation='relu'))\n",
        "model.add(AveragePooling2D(pool_size=(3,3), strides=(2, 2)))\n",
        " \n",
        "#3rd convolution layer\n",
        "model.add(Conv2D(128, (3, 3), activation='relu'))\n",
        "model.add(Conv2D(128, (3, 3), activation='relu'))\n",
        "model.add(AveragePooling2D(pool_size=(3,3), strides=(2, 2)))\n",
        " \n",
        "model.add(Flatten())\n",
        " \n",
        "#fully connected neural networks\n",
        "model.add(Dense(1024, activation='relu'))\n",
        "model.add(Dropout(0.2))\n",
        "model.add(Dense(1024, activation='relu'))\n",
        "model.add(Dropout(0.2))\n",
        " \n",
        "model.add(Dense(7, activation='softmax'))\n"
      ],
      "execution_count": 0,
      "outputs": []
    },
    {
      "metadata": {
        "id": "2ybqZauf9IIB",
        "colab_type": "code",
        "colab": {
          "base_uri": "https://localhost:8080/",
          "height": 1020
        },
        "outputId": "dbd0181c-cd0a-40a8-db50-d6124d1e1ec1"
      },
      "cell_type": "code",
      "source": [
        "model.compile(loss='categorical_crossentropy', optimizer='adam', metrics=['accuracy'])\n",
        "model.fit(X_train, y_train, epochs=20, batch_size=256)\n"
      ],
      "execution_count": 48,
      "outputs": [
        {
          "output_type": "stream",
          "text": [
            "WARNING:tensorflow:From /usr/local/lib/python3.6/dist-packages/tensorflow/python/ops/math_ops.py:3066: to_int32 (from tensorflow.python.ops.math_ops) is deprecated and will be removed in a future version.\n",
            "Instructions for updating:\n",
            "Use tf.cast instead.\n",
            "Epoch 1/20\n",
            "28709/28709 [==============================] - 32s 1ms/step - loss: 1.8577 - acc: 0.2515\n",
            "Epoch 2/20\n",
            "28709/28709 [==============================] - 25s 880us/step - loss: 1.6546 - acc: 0.3402\n",
            "Epoch 3/20\n",
            "28709/28709 [==============================] - 26s 908us/step - loss: 1.4992 - acc: 0.4199\n",
            "Epoch 4/20\n",
            "28709/28709 [==============================] - 26s 910us/step - loss: 1.4065 - acc: 0.4619\n",
            "Epoch 5/20\n",
            "28709/28709 [==============================] - 26s 912us/step - loss: 1.3193 - acc: 0.4991\n",
            "Epoch 6/20\n",
            "28709/28709 [==============================] - 26s 913us/step - loss: 1.2534 - acc: 0.5260\n",
            "Epoch 7/20\n",
            "28709/28709 [==============================] - 26s 910us/step - loss: 1.2090 - acc: 0.5423\n",
            "Epoch 8/20\n",
            "28709/28709 [==============================] - 26s 912us/step - loss: 1.1543 - acc: 0.5631\n",
            "Epoch 9/20\n",
            "28709/28709 [==============================] - 26s 915us/step - loss: 1.1102 - acc: 0.5809\n",
            "Epoch 10/20\n",
            "28709/28709 [==============================] - 26s 912us/step - loss: 1.0693 - acc: 0.5964\n",
            "Epoch 11/20\n",
            "28709/28709 [==============================] - 26s 903us/step - loss: 1.0176 - acc: 0.6188\n",
            "Epoch 12/20\n",
            "28709/28709 [==============================] - 26s 919us/step - loss: 0.9587 - acc: 0.6417\n",
            "Epoch 13/20\n",
            "28709/28709 [==============================] - 26s 918us/step - loss: 0.9053 - acc: 0.6607\n",
            "Epoch 14/20\n",
            "28709/28709 [==============================] - 26s 919us/step - loss: 0.8609 - acc: 0.6766\n",
            "Epoch 15/20\n",
            "28709/28709 [==============================] - 26s 919us/step - loss: 0.8105 - acc: 0.6999\n",
            "Epoch 16/20\n",
            "28709/28709 [==============================] - 26s 918us/step - loss: 0.7566 - acc: 0.7183\n",
            "Epoch 17/20\n",
            "28709/28709 [==============================] - 26s 910us/step - loss: 0.6982 - acc: 0.7419\n",
            "Epoch 18/20\n",
            "28709/28709 [==============================] - 26s 911us/step - loss: 0.6407 - acc: 0.7636\n",
            "Epoch 19/20\n",
            "28709/28709 [==============================] - 26s 919us/step - loss: 0.6065 - acc: 0.7756\n",
            "Epoch 20/20\n",
            "28709/28709 [==============================] - 26s 917us/step - loss: 0.5640 - acc: 0.7918\n"
          ],
          "name": "stdout"
        },
        {
          "output_type": "execute_result",
          "data": {
            "text/plain": [
              "<keras.callbacks.History at 0x7fc2ba626e48>"
            ]
          },
          "metadata": {
            "tags": []
          },
          "execution_count": 48
        }
      ]
    },
    {
      "metadata": {
        "id": "LhsK0GpW9Pi8",
        "colab_type": "code",
        "colab": {
          "base_uri": "https://localhost:8080/",
          "height": 134
        },
        "outputId": "05e1c2c3-1e33-41bb-af21-b9318c729b9d"
      },
      "cell_type": "code",
      "source": [
        "accuracy = model.evaluate(x=X_test,y=y_test,batch_size=256)\n",
        "print(\"Accuracy: \",accuracy[1])"
      ],
      "execution_count": 49,
      "outputs": [
        {
          "output_type": "stream",
          "text": [
            "3589/3589 [==============================] - 2s 485us/step\n",
            "Accuracy:  0.5561437726469218\n"
          ],
          "name": "stdout"
        }
      ]
    },
    {
      "metadata": {
        "id": "1fZVrKiNPJjl",
        "colab_type": "code",
        "colab": {
          "base_uri": "https://localhost:8080/",
          "height": 636
        },
        "outputId": "e7b30f62-17f2-4868-daf7-a025c818281b"
      },
      "cell_type": "code",
      "source": [
        "model.summary()"
      ],
      "execution_count": 50,
      "outputs": [
        {
          "output_type": "stream",
          "text": [
            "_________________________________________________________________\n",
            "Layer (type)                 Output Shape              Param #   \n",
            "=================================================================\n",
            "conv2d_11 (Conv2D)           (None, 44, 44, 64)        1664      \n",
            "_________________________________________________________________\n",
            "max_pooling2d_3 (MaxPooling2 (None, 20, 20, 64)        0         \n",
            "_________________________________________________________________\n",
            "conv2d_12 (Conv2D)           (None, 18, 18, 64)        36928     \n",
            "_________________________________________________________________\n",
            "conv2d_13 (Conv2D)           (None, 16, 16, 64)        36928     \n",
            "_________________________________________________________________\n",
            "average_pooling2d_5 (Average (None, 7, 7, 64)          0         \n",
            "_________________________________________________________________\n",
            "conv2d_14 (Conv2D)           (None, 5, 5, 128)         73856     \n",
            "_________________________________________________________________\n",
            "conv2d_15 (Conv2D)           (None, 3, 3, 128)         147584    \n",
            "_________________________________________________________________\n",
            "average_pooling2d_6 (Average (None, 1, 1, 128)         0         \n",
            "_________________________________________________________________\n",
            "flatten_3 (Flatten)          (None, 128)               0         \n",
            "_________________________________________________________________\n",
            "dense_7 (Dense)              (None, 1024)              132096    \n",
            "_________________________________________________________________\n",
            "dropout_5 (Dropout)          (None, 1024)              0         \n",
            "_________________________________________________________________\n",
            "dense_8 (Dense)              (None, 1024)              1049600   \n",
            "_________________________________________________________________\n",
            "dropout_6 (Dropout)          (None, 1024)              0         \n",
            "_________________________________________________________________\n",
            "dense_9 (Dense)              (None, 7)                 7175      \n",
            "=================================================================\n",
            "Total params: 1,485,831\n",
            "Trainable params: 1,485,831\n",
            "Non-trainable params: 0\n",
            "_________________________________________________________________\n"
          ],
          "name": "stdout"
        }
      ]
    },
    {
      "metadata": {
        "id": "bugbK-5nPVk-",
        "colab_type": "code",
        "colab": {
          "base_uri": "https://localhost:8080/",
          "height": 94
        },
        "outputId": "556894ff-b2ab-4ff4-87c8-624267d7a990"
      },
      "cell_type": "code",
      "source": [
        "model.save('Facemodel.h5')\n",
        "weights_file = drive.CreateFile({'title' : 'Facemodel.h5'})\n",
        "weights_file.SetContentFile('Facemodel.h5')\n",
        "weights_file.Upload()\n",
        "drive.CreateFile({'id': weights_file.get('id')})"
      ],
      "execution_count": 52,
      "outputs": [
        {
          "output_type": "execute_result",
          "data": {
            "text/plain": [
              "GoogleDriveFile({'id': '1_-wInEGwuQBaPBvo1M1t8Yys0eZjLbbT'})"
            ]
          },
          "metadata": {
            "tags": []
          },
          "execution_count": 52
        }
      ]
    },
    {
      "metadata": {
        "id": "nU8k21iqPkdk",
        "colab_type": "code",
        "colab": {}
      },
      "cell_type": "code",
      "source": [
        ""
      ],
      "execution_count": 0,
      "outputs": []
    }
  ]
}